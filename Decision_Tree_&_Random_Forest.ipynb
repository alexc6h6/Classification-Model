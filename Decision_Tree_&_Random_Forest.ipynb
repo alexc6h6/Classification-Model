{
  "nbformat": 4,
  "nbformat_minor": 0,
  "metadata": {
    "colab": {
      "name": "*Decision Tree & Random Forest.ipynb",
      "provenance": [],
      "collapsed_sections": [],
      "authorship_tag": "ABX9TyM2Hh2uz5nbCYimZ7Xgxq7z",
      "include_colab_link": true
    },
    "kernelspec": {
      "name": "python3",
      "display_name": "Python 3"
    },
    "accelerator": "GPU"
  },
  "cells": [
    {
      "cell_type": "markdown",
      "metadata": {
        "id": "view-in-github",
        "colab_type": "text"
      },
      "source": [
        "<a href=\"https://colab.research.google.com/github/alexc6h6/Classification-Model/blob/master/Decision_Tree_%26_Random_Forest.ipynb\" target=\"_parent\"><img src=\"https://colab.research.google.com/assets/colab-badge.svg\" alt=\"Open In Colab\"/></a>"
      ]
    },
    {
      "cell_type": "code",
      "metadata": {
        "id": "pwgCmp8n_90m",
        "colab_type": "code",
        "outputId": "a4986a82-b4fb-48eb-eee6-b21bef1d7b6b",
        "colab": {
          "base_uri": "https://localhost:8080/",
          "height": 122
        }
      },
      "source": [
        "from google.colab import drive\n",
        "\n",
        "drive.mount('/content/drive')"
      ],
      "execution_count": 1,
      "outputs": [
        {
          "output_type": "stream",
          "text": [
            "Go to this URL in a browser: https://accounts.google.com/o/oauth2/auth?client_id=947318989803-6bn6qk8qdgf4n4g3pfee6491hc0brc4i.apps.googleusercontent.com&redirect_uri=urn%3aietf%3awg%3aoauth%3a2.0%3aoob&response_type=code&scope=email%20https%3a%2f%2fwww.googleapis.com%2fauth%2fdocs.test%20https%3a%2f%2fwww.googleapis.com%2fauth%2fdrive%20https%3a%2f%2fwww.googleapis.com%2fauth%2fdrive.photos.readonly%20https%3a%2f%2fwww.googleapis.com%2fauth%2fpeopleapi.readonly\n",
            "\n",
            "Enter your authorization code:\n",
            "··········\n",
            "Mounted at /content/drive\n"
          ],
          "name": "stdout"
        }
      ]
    },
    {
      "cell_type": "code",
      "metadata": {
        "id": "E9oRA3EbAFje",
        "colab_type": "code",
        "colab": {
          "base_uri": "https://localhost:8080/",
          "height": 71
        },
        "outputId": "2a0f6747-5943-4679-b805-1652d1d0344a"
      },
      "source": [
        "import pandas as pd\n",
        "import numpy as np\n",
        "import matplotlib.pyplot as plt\n",
        "import seaborn as sns\n",
        "from tensorflow.keras.utils import to_categorical\n",
        "from sklearn.model_selection import train_test_split\n",
        "from sklearn.tree import DecisionTreeClassifier\n",
        "from sklearn.ensemble import RandomForestClassifier\n",
        "from sklearn.metrics import accuracy_score\n",
        "from sklearn.preprocessing import StandardScaler"
      ],
      "execution_count": 2,
      "outputs": [
        {
          "output_type": "stream",
          "text": [
            "/usr/local/lib/python3.6/dist-packages/statsmodels/tools/_testing.py:19: FutureWarning: pandas.util.testing is deprecated. Use the functions in the public API at pandas.testing instead.\n",
            "  import pandas.util.testing as tm\n"
          ],
          "name": "stderr"
        }
      ]
    },
    {
      "cell_type": "code",
      "metadata": {
        "id": "j8JxhIlIAaqt",
        "colab_type": "code",
        "colab": {}
      },
      "source": [
        "#loading datasets\n",
        "train = pd.read_csv('/content/drive/My Drive/titanic/train.csv', index_col = 'PassengerId')\n",
        "test = pd.read_csv('/content/drive/My Drive/titanic/test.csv', index_col = 'PassengerId')\n"
      ],
      "execution_count": 0,
      "outputs": []
    },
    {
      "cell_type": "code",
      "metadata": {
        "id": "CG6V8HBxApVI",
        "colab_type": "code",
        "outputId": "6e1d7ef9-e059-48bf-d791-f434ce66e6c8",
        "colab": {
          "base_uri": "https://localhost:8080/",
          "height": 34
        }
      },
      "source": [
        "#the passengers survived is the labels \n",
        "labels = train['Survived'].values\n",
        "\n",
        "print(labels.shape)\n"
      ],
      "execution_count": 4,
      "outputs": [
        {
          "output_type": "stream",
          "text": [
            "(891,)\n"
          ],
          "name": "stdout"
        }
      ]
    },
    {
      "cell_type": "code",
      "metadata": {
        "id": "44QABWYaBkZy",
        "colab_type": "code",
        "colab": {}
      },
      "source": [
        "train.drop(columns = 'Survived', inplace = True)"
      ],
      "execution_count": 0,
      "outputs": []
    },
    {
      "cell_type": "code",
      "metadata": {
        "id": "bBEtkLvAA6Ei",
        "colab_type": "code",
        "colab": {}
      },
      "source": [
        "data = pd.concat([train, test], axis = 0)"
      ],
      "execution_count": 0,
      "outputs": []
    },
    {
      "cell_type": "code",
      "metadata": {
        "id": "7J6Q_OcbBV18",
        "colab_type": "code",
        "outputId": "7a2c2b39-6ba0-4cd6-e9d7-da1629c73ac0",
        "colab": {
          "base_uri": "https://localhost:8080/",
          "height": 306
        }
      },
      "source": [
        "#there are several missing values in age, fare, cabin, embarked columns\n",
        "data.info()"
      ],
      "execution_count": 7,
      "outputs": [
        {
          "output_type": "stream",
          "text": [
            "<class 'pandas.core.frame.DataFrame'>\n",
            "Int64Index: 1309 entries, 1 to 1309\n",
            "Data columns (total 10 columns):\n",
            " #   Column    Non-Null Count  Dtype  \n",
            "---  ------    --------------  -----  \n",
            " 0   Pclass    1309 non-null   int64  \n",
            " 1   Name      1309 non-null   object \n",
            " 2   Sex       1309 non-null   object \n",
            " 3   Age       1046 non-null   float64\n",
            " 4   SibSp     1309 non-null   int64  \n",
            " 5   Parch     1309 non-null   int64  \n",
            " 6   Ticket    1309 non-null   object \n",
            " 7   Fare      1308 non-null   float64\n",
            " 8   Cabin     295 non-null    object \n",
            " 9   Embarked  1307 non-null   object \n",
            "dtypes: float64(2), int64(3), object(5)\n",
            "memory usage: 112.5+ KB\n"
          ],
          "name": "stdout"
        }
      ]
    },
    {
      "cell_type": "code",
      "metadata": {
        "id": "K_rcBdVwCVrd",
        "colab_type": "code",
        "colab": {}
      },
      "source": [
        "#fill missing values \n",
        "data['Age'] = data['Age'].fillna(value = data['Age'].median())\n",
        "data['Fare'] = data['Fare'].fillna(value = data['Fare'].mean())\n",
        "data['Embarked'] = data['Embarked'].fillna(value = data['Embarked'].mode()[0])"
      ],
      "execution_count": 0,
      "outputs": []
    },
    {
      "cell_type": "code",
      "metadata": {
        "id": "bn78R5PojvAo",
        "colab_type": "code",
        "colab": {}
      },
      "source": [
        "#generate new families column \n",
        "data['Families'] = data['SibSp'] + data['Parch'] + 1"
      ],
      "execution_count": 0,
      "outputs": []
    },
    {
      "cell_type": "code",
      "metadata": {
        "id": "T1BmJngrhwuu",
        "colab_type": "code",
        "colab": {}
      },
      "source": [
        "#generate new column that the passenger take the ship alone or with families\n",
        "data['Alone'] = 1\n",
        "data.loc[data['Families'] > 1, 'Alone'] = 0"
      ],
      "execution_count": 0,
      "outputs": []
    },
    {
      "cell_type": "code",
      "metadata": {
        "id": "XDKY1kA4d9rZ",
        "colab_type": "code",
        "outputId": "0d993042-d5cd-4ef0-e658-917b73120521",
        "colab": {
          "base_uri": "https://localhost:8080/",
          "height": 119
        }
      },
      "source": [
        "#generate new title column by extracting the title from name column\n",
        "data['Title'] = data['Name'].str.extract(' ([A-Za-z]+)\\.', expand = False)\n",
        "\n",
        "data['Title'] = data['Title'].replace(['Mlle', 'Ms', 'Mme'], 'Miss')\n",
        "data['Title'] = data['Title'].replace('Lady', 'Mrs')\n",
        "data['Title'] = data['Title'].replace(['Dr', 'Rev', 'Col', 'Major', 'Don', 'Sir', 'Capt', 'Dona', 'Countess', 'Jonkheer'], 'Rare')\n",
        "\n",
        "data['Title'].value_counts()"
      ],
      "execution_count": 11,
      "outputs": [
        {
          "output_type": "execute_result",
          "data": {
            "text/plain": [
              "Mr        757\n",
              "Miss      265\n",
              "Mrs       198\n",
              "Master     61\n",
              "Rare       28\n",
              "Name: Title, dtype: int64"
            ]
          },
          "metadata": {
            "tags": []
          },
          "execution_count": 11
        }
      ]
    },
    {
      "cell_type": "code",
      "metadata": {
        "id": "sVf-g00BgMBw",
        "colab_type": "code",
        "colab": {}
      },
      "source": [
        "#drop cabin column which has too many missing valus\n",
        "#drop ticket and name columns\n",
        "data.drop(columns = ['Cabin', 'Ticket', 'Name'], inplace = True)"
      ],
      "execution_count": 0,
      "outputs": []
    },
    {
      "cell_type": "code",
      "metadata": {
        "id": "M3Bd_3NbDTM-",
        "colab_type": "code",
        "outputId": "cf20ae73-8e2e-4178-bc5b-b73c781d4e16",
        "colab": {
          "base_uri": "https://localhost:8080/",
          "height": 323
        }
      },
      "source": [
        "data.info()\n",
        "print(data.shape)"
      ],
      "execution_count": 13,
      "outputs": [
        {
          "output_type": "stream",
          "text": [
            "<class 'pandas.core.frame.DataFrame'>\n",
            "Int64Index: 1309 entries, 1 to 1309\n",
            "Data columns (total 10 columns):\n",
            " #   Column    Non-Null Count  Dtype  \n",
            "---  ------    --------------  -----  \n",
            " 0   Pclass    1309 non-null   int64  \n",
            " 1   Sex       1309 non-null   object \n",
            " 2   Age       1309 non-null   float64\n",
            " 3   SibSp     1309 non-null   int64  \n",
            " 4   Parch     1309 non-null   int64  \n",
            " 5   Fare      1309 non-null   float64\n",
            " 6   Embarked  1309 non-null   object \n",
            " 7   Families  1309 non-null   int64  \n",
            " 8   Alone     1309 non-null   int64  \n",
            " 9   Title     1309 non-null   object \n",
            "dtypes: float64(2), int64(5), object(3)\n",
            "memory usage: 112.5+ KB\n",
            "(1309, 10)\n"
          ],
          "name": "stdout"
        }
      ]
    },
    {
      "cell_type": "code",
      "metadata": {
        "id": "1OOjZtD5kKUD",
        "colab_type": "code",
        "colab": {}
      },
      "source": [
        "col_1 = ['Pclass', 'Sex', 'Embarked', 'Title', 'Alone']\n",
        "col_2 = ['Age', 'SibSp', 'Parch', 'Fare', 'Families']"
      ],
      "execution_count": 0,
      "outputs": []
    },
    {
      "cell_type": "code",
      "metadata": {
        "id": "-JJY7n_Yj63O",
        "colab_type": "code",
        "outputId": "925f494e-8b43-4882-a332-588031268854",
        "colab": {
          "base_uri": "https://localhost:8080/",
          "height": 1000
        }
      },
      "source": [
        "#visulize features\n",
        "for col in col_2:\n",
        "  plt.hist(data[col], bins = 10)\n",
        "  plt.title(col)\n",
        "  plt.show()"
      ],
      "execution_count": 22,
      "outputs": [
        {
          "output_type": "display_data",
          "data": {
            "image/png": "[encoded data removed]",
            "text/plain": [
              "<Figure size 432x288 with 1 Axes>"
            ]
          },
          "metadata": {
            "tags": [],
            "needs_background": "light"
          }
        },
        {
          "output_type": "display_data",
          "data": {
            "image/png": "[encoded data removed]",
            "text/plain": [
              "<Figure size 432x288 with 1 Axes>"
            ]
          },
          "metadata": {
            "tags": [],
            "needs_background": "light"
          }
        },
        {
          "output_type": "display_data",
          "data": {
            "image/png": "[encoded data removed]",
            "text/plain": [
              "<Figure size 432x288 with 1 Axes>"
            ]
          },
          "metadata": {
            "tags": [],
            "needs_background": "light"
          }
        },
        {
          "output_type": "display_data",
          "data": {
            "image/png": "[encoded data removed]",
            "text/plain": [
              "<Figure size 432x288 with 1 Axes>"
            ]
          },
          "metadata": {
            "tags": [],
            "needs_background": "light"
          }
        },
        {
          "output_type": "display_data",
          "data": {
            "image/png": "[encoded data removed]",
            "text/plain": [
              "<Figure size 432x288 with 1 Axes>"
            ]
          },
          "metadata": {
            "tags": [],
            "needs_background": "light"
          }
        }
      ]
    },
    {
      "cell_type": "code",
      "metadata": {
        "id": "16ezVaODlnxR",
        "colab_type": "code",
        "outputId": "d9551ca2-ea61-47b5-8c16-50a929d86629",
        "colab": {
          "base_uri": "https://localhost:8080/",
          "height": 1000
        }
      },
      "source": [
        "#visulize features\n",
        "\n",
        "for col in col_1:\n",
        "  fig = plt.figure(figsize=(6, 6))\n",
        "  plt.pie(data[col].value_counts(), autopct = '%1.1f%%', labels = data[col].unique())\n",
        "  plt.title(col)\n",
        "  plt.show()"
      ],
      "execution_count": 23,
      "outputs": [
        {
          "output_type": "display_data",
          "data": {
            "image/png": "[encoded data removed]",
            "text/plain": [
              "<Figure size 432x432 with 1 Axes>"
            ]
          },
          "metadata": {
            "tags": []
          }
        },
        {
          "output_type": "display_data",
          "data": {
            "image/png": "[encoded data removed]",
            "text/plain": [
              "<Figure size 432x432 with 1 Axes>"
            ]
          },
          "metadata": {
            "tags": []
          }
        },
        {
          "output_type": "display_data",
          "data": {
            "image/png": "[encoded data removed]",
            "text/plain": [
              "<Figure size 432x432 with 1 Axes>"
            ]
          },
          "metadata": {
            "tags": []
          }
        },
        {
          "output_type": "display_data",
          "data": {
            "image/png": "[encoded data removed]",
            "text/plain": [
              "<Figure size 432x432 with 1 Axes>"
            ]
          },
          "metadata": {
            "tags": []
          }
        },
        {
          "output_type": "display_data",
          "data": {
            "image/png": "[encoded data removed]",
            "text/plain": [
              "<Figure size 432x432 with 1 Axes>"
            ]
          },
          "metadata": {
            "tags": []
          }
        }
      ]
    },
    {
      "cell_type": "code",
      "metadata": {
        "id": "Q4hMpw9J-cr6",
        "colab_type": "code",
        "colab": {
          "base_uri": "https://localhost:8080/",
          "height": 1000
        },
        "outputId": "4ac97072-a974-46ff-bd3f-39cf0d87c444"
      },
      "source": [
        "for col in col_1:\n",
        "  fig = plt.figure(figsize = (6,6))\n",
        "  plt.bar(data[col].unique(), data[col].value_counts())\n",
        "  plt.show()\n"
      ],
      "execution_count": 27,
      "outputs": [
        {
          "output_type": "display_data",
          "data": {
            "image/png": "[encoded data removed]",
            "text/plain": [
              "<Figure size 432x432 with 1 Axes>"
            ]
          },
          "metadata": {
            "tags": [],
            "needs_background": "light"
          }
        },
        {
          "output_type": "display_data",
          "data": {
            "image/png": "[encoded data removed]",
            "text/plain": [
              "<Figure size 432x432 with 1 Axes>"
            ]
          },
          "metadata": {
            "tags": [],
            "needs_background": "light"
          }
        },
        {
          "output_type": "display_data",
          "data": {
            "image/png": "[encoded data removed]",
            "text/plain": [
              "<Figure size 432x432 with 1 Axes>"
            ]
          },
          "metadata": {
            "tags": [],
            "needs_background": "light"
          }
        },
        {
          "output_type": "display_data",
          "data": {
            "image/png": "[encoded data removed]",
            "text/plain": [
              "<Figure size 432x432 with 1 Axes>"
            ]
          },
          "metadata": {
            "tags": [],
            "needs_background": "light"
          }
        },
        {
          "output_type": "display_data",
          "data": {
            "image/png": "[encoded data removed]",
            "text/plain": [
              "<Figure size 432x432 with 1 Axes>"
            ]
          },
          "metadata": {
            "tags": [],
            "needs_background": "light"
          }
        }
      ]
    },
    {
      "cell_type": "code",
      "metadata": {
        "id": "mORnUplIFjn_",
        "colab_type": "code",
        "outputId": "7857749b-bc51-457c-fe9e-e95e60b6aba5",
        "colab": {
          "base_uri": "https://localhost:8080/",
          "height": 493
        }
      },
      "source": [
        "#transform categorical features to one hot code\n",
        "columns = ['Pclass', 'Sex', 'Embarked', 'Title', 'Alone']\n",
        "for i in columns:\n",
        "  data[i] = data[i].astype('object')\n",
        "\n",
        "data = pd.get_dummies(data)\n",
        "\n",
        "print(data.shape)\n",
        "data.info()\n"
      ],
      "execution_count": 28,
      "outputs": [
        {
          "output_type": "stream",
          "text": [
            "(1309, 20)\n",
            "<class 'pandas.core.frame.DataFrame'>\n",
            "Int64Index: 1309 entries, 1 to 1309\n",
            "Data columns (total 20 columns):\n",
            " #   Column        Non-Null Count  Dtype  \n",
            "---  ------        --------------  -----  \n",
            " 0   Age           1309 non-null   float64\n",
            " 1   SibSp         1309 non-null   int64  \n",
            " 2   Parch         1309 non-null   int64  \n",
            " 3   Fare          1309 non-null   float64\n",
            " 4   Families      1309 non-null   int64  \n",
            " 5   Pclass_1      1309 non-null   uint8  \n",
            " 6   Pclass_2      1309 non-null   uint8  \n",
            " 7   Pclass_3      1309 non-null   uint8  \n",
            " 8   Sex_female    1309 non-null   uint8  \n",
            " 9   Sex_male      1309 non-null   uint8  \n",
            " 10  Embarked_C    1309 non-null   uint8  \n",
            " 11  Embarked_Q    1309 non-null   uint8  \n",
            " 12  Embarked_S    1309 non-null   uint8  \n",
            " 13  Alone_0       1309 non-null   uint8  \n",
            " 14  Alone_1       1309 non-null   uint8  \n",
            " 15  Title_Master  1309 non-null   uint8  \n",
            " 16  Title_Miss    1309 non-null   uint8  \n",
            " 17  Title_Mr      1309 non-null   uint8  \n",
            " 18  Title_Mrs     1309 non-null   uint8  \n",
            " 19  Title_Rare    1309 non-null   uint8  \n",
            "dtypes: float64(2), int64(3), uint8(15)\n",
            "memory usage: 80.5 KB\n"
          ],
          "name": "stdout"
        }
      ]
    },
    {
      "cell_type": "code",
      "metadata": {
        "id": "5YrmK-STroRr",
        "colab_type": "code",
        "colab": {}
      },
      "source": [
        "#feature scaling\n",
        "sc = StandardScaler()\n",
        "\n",
        "data = sc.fit_transform(data)"
      ],
      "execution_count": 0,
      "outputs": []
    },
    {
      "cell_type": "code",
      "metadata": {
        "id": "dbSjH6UjhULq",
        "colab_type": "code",
        "colab": {}
      },
      "source": [
        "train_data = data[:891]\n",
        "test_data = data[891:]"
      ],
      "execution_count": 0,
      "outputs": []
    },
    {
      "cell_type": "code",
      "metadata": {
        "id": "zdzdDuYTo9aM",
        "colab_type": "code",
        "colab": {}
      },
      "source": [
        "#split data into training and validation sets\n",
        "x_train, x_val, y_train, y_val = train_test_split(train_data, labels, test_size = 0.1)"
      ],
      "execution_count": 0,
      "outputs": []
    },
    {
      "cell_type": "markdown",
      "metadata": {
        "id": "JI4-LmyF0lTP",
        "colab_type": "text"
      },
      "source": [
        "# Decision Tree Classifier\n",
        "\n",
        "![alt text](https://elf11.github.io/images/decisionTree.png)"
      ]
    },
    {
      "cell_type": "code",
      "metadata": {
        "id": "LVSnmn_VpAM7",
        "colab_type": "code",
        "outputId": "dd9d1e5b-6ba0-47a2-ecae-6e02f2437185",
        "colab": {
          "base_uri": "https://localhost:8080/",
          "height": 34
        }
      },
      "source": [
        "#decision tree model\n",
        "tree = DecisionTreeClassifier(criterion = 'gini')\n",
        "\n",
        "tree.fit(x_train, y_train)\n",
        "prediction = tree.predict(x_val)\n",
        "acc = accuracy_score(y_val, prediction)\n",
        "\n",
        "print('Tree ACC: ' + str(acc))"
      ],
      "execution_count": 34,
      "outputs": [
        {
          "output_type": "stream",
          "text": [
            "Tree ACC: 0.8111111111111111\n"
          ],
          "name": "stdout"
        }
      ]
    },
    {
      "cell_type": "markdown",
      "metadata": {
        "id": "X3zRYAy91Bac",
        "colab_type": "text"
      },
      "source": [
        "# Random Forest Classifier\n",
        "\n",
        "![alt text](https://miro.medium.com/max/2340/1*58f1CZ8M4il0OZYg2oRN4w.png)"
      ]
    },
    {
      "cell_type": "code",
      "metadata": {
        "id": "ltsmB7CwqHmX",
        "colab_type": "code",
        "outputId": "432991e1-3fbf-492a-bbb2-850fb5245330",
        "colab": {
          "base_uri": "https://localhost:8080/",
          "height": 34
        }
      },
      "source": [
        "#random forest\n",
        "forest = RandomForestClassifier(n_estimators = 200, criterion = 'gini', max_depth = 10)\n",
        "\n",
        "forest.fit(x_train, y_train)\n",
        "prediction = forest.predict(x_val)\n",
        "acc = accuracy_score(y_val, prediction)\n",
        "\n",
        "print('Forest ACC: '+ str(acc))"
      ],
      "execution_count": 37,
      "outputs": [
        {
          "output_type": "stream",
          "text": [
            "Forest ACC: 0.8666666666666667\n"
          ],
          "name": "stdout"
        }
      ]
    },
    {
      "cell_type": "code",
      "metadata": {
        "id": "FY6qjBs9BOXG",
        "colab_type": "code",
        "colab": {}
      },
      "source": [
        ""
      ],
      "execution_count": 0,
      "outputs": []
    }
  ]
}