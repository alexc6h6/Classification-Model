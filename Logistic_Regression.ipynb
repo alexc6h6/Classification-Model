{
  "nbformat": 4,
  "nbformat_minor": 0,
  "metadata": {
    "colab": {
      "name": "*Logistic Regression.ipynb",
      "provenance": [],
      "collapsed_sections": [],
      "authorship_tag": "ABX9TyO5CeVXSDy8jupzGhLMsz7h",
      "include_colab_link": true
    },
    "kernelspec": {
      "name": "python3",
      "display_name": "Python 3"
    }
  },
  "cells": [
    {
      "cell_type": "markdown",
      "metadata": {
        "id": "view-in-github",
        "colab_type": "text"
      },
      "source": [
        "<a href=\"https://colab.research.google.com/github/alexc6h6/Classification-Model/blob/master/Logistic_Regression.ipynb\" target=\"_parent\"><img src=\"https://colab.research.google.com/assets/colab-badge.svg\" alt=\"Open In Colab\"/></a>"
      ]
    },
    {
      "cell_type": "markdown",
      "metadata": {
        "id": "NTVZW6XqIApA",
        "colab_type": "text"
      },
      "source": [
        "# Logistic Regression\n",
        "\n",
        "Logistic regression is a statistical model that in its basic form uses a logistic function to model a binary dependent variable. It's usually is used to model the probability of a certain class. \n",
        "\n",
        "\n",
        "z = wx + b\n",
        "\n",
        "sigmoid = 1 / (1 + exp^-z)\n",
        "\n",
        "h(x) = sigmoid(z)\n",
        "\n",
        "output = 0 or 1\n",
        "\n",
        "![alt text](https://miro.medium.com/max/2400/1*RqXFpiNGwdiKBWyLJc_E7g.png)\n"
      ]
    },
    {
      "cell_type": "markdown",
      "metadata": {
        "id": "WdbbeUSLLF8m",
        "colab_type": "text"
      },
      "source": [
        "The cost function for logistic regression:\n",
        "\n",
        "![alt text](https://www.geeksforgeeks.org/wp-content/ql-cache/quicklatex.com-cc75211ad9199ec33f790ca7d3ec43e1_l3.svg)\n",
        "\n",
        "If y =1 and the prediction output is close to 1, the cost is very smell(close to 0)\n",
        "\n",
        "![alt text](https://media.geeksforgeeks.org/wp-content/uploads/20190424192136/For_cost_func_y1_new1.jpg)\n",
        "\n",
        "On the other hand, if y =0 and the prediction is close to 0, the cost is very smell.\n",
        "\n",
        "![alt text](https://media.geeksforgeeks.org/wp-content/uploads/20190424191536/For_cost_func_y0.jpg)\n"
      ]
    },
    {
      "cell_type": "markdown",
      "metadata": {
        "id": "RUAAx4c3PLtr",
        "colab_type": "text"
      },
      "source": [
        "So, the cost function of logistic regression is :\n",
        "\n",
        "![alt text](https://www.geeksforgeeks.org/wp-content/ql-cache/quicklatex.com-31cb5badb5475bd54e4d031483341142_l3.svg)\n",
        "\n",
        "![alt text](https://www.geeksforgeeks.org/wp-content/ql-cache/quicklatex.com-cb0d7ea73be97fd93d185f487b3b7661_l3.svg)"
      ]
    },
    {
      "cell_type": "markdown",
      "metadata": {
        "id": "ix_glErqPbse",
        "colab_type": "text"
      },
      "source": [
        "The gradient descent looks similar to that of Linear Regression but the difference lies in the hypothesis h(x):\n",
        "\n",
        "![alt text](https://www.geeksforgeeks.org/wp-content/ql-cache/quicklatex.com-6fee63c6c48722d2c95c5dd0ac850b41_l3.svg)\n",
        "\n"
      ]
    },
    {
      "cell_type": "markdown",
      "metadata": {
        "id": "ev9u7wsEPz0D",
        "colab_type": "text"
      },
      "source": [
        "Using dataset in sklearn as example\n"
      ]
    },
    {
      "cell_type": "code",
      "metadata": {
        "id": "KCGtbNSNU2EL",
        "colab_type": "code",
        "colab": {}
      },
      "source": [
        "from sklearn.datasets import load_breast_cancer\n",
        "import numpy as np\n",
        "import pandas as pd\n",
        "import matplotlib.pyplot as plt\n",
        "from sklearn.linear_model import LogisticRegression, LogisticRegressionCV\n",
        "from sklearn.preprocessing import StandardScaler\n",
        "from sklearn.model_selection import train_test_split\n",
        "from sklearn.metrics import accuracy_score"
      ],
      "execution_count": 0,
      "outputs": []
    },
    {
      "cell_type": "code",
      "metadata": {
        "id": "M_JxYD-LVG6X",
        "colab_type": "code",
        "colab": {}
      },
      "source": [
        "data = load_breast_cancer()\n",
        "\n",
        "features = data.data\n",
        "label = data.target"
      ],
      "execution_count": 0,
      "outputs": []
    },
    {
      "cell_type": "markdown",
      "metadata": {
        "id": "Q-ED9N2SYMkc",
        "colab_type": "text"
      },
      "source": [
        "'cancer' is output label, others are input features."
      ]
    },
    {
      "cell_type": "code",
      "metadata": {
        "id": "97t7P1WhVK8n",
        "colab_type": "code",
        "outputId": "f600cf47-985c-4185-94c2-3edfb33c67d8",
        "colab": {
          "base_uri": "https://localhost:8080/",
          "height": 153
        }
      },
      "source": [
        "data = pd.DataFrame(features)\n",
        "\n",
        "data['cancer'] = label\n",
        "\n",
        "print(data.head(5))"
      ],
      "execution_count": 3,
      "outputs": [
        {
          "output_type": "stream",
          "text": [
            "       0      1       2       3  ...      27      28       29  cancer\n",
            "0  17.99  10.38  122.80  1001.0  ...  0.2654  0.4601  0.11890       0\n",
            "1  20.57  17.77  132.90  1326.0  ...  0.1860  0.2750  0.08902       0\n",
            "2  19.69  21.25  130.00  1203.0  ...  0.2430  0.3613  0.08758       0\n",
            "3  11.42  20.38   77.58   386.1  ...  0.2575  0.6638  0.17300       0\n",
            "4  20.29  14.34  135.10  1297.0  ...  0.1625  0.2364  0.07678       0\n",
            "\n",
            "[5 rows x 31 columns]\n"
          ],
          "name": "stdout"
        }
      ]
    },
    {
      "cell_type": "code",
      "metadata": {
        "id": "gjXhASMAWs-p",
        "colab_type": "code",
        "colab": {}
      },
      "source": [
        "#split dataset into training set and testing set\n",
        "x_train, x_test, y_train, y_test = train_test_split(features, label, test_size = 0.2)"
      ],
      "execution_count": 0,
      "outputs": []
    },
    {
      "cell_type": "code",
      "metadata": {
        "id": "GiHvQ4-sW4Bt",
        "colab_type": "code",
        "colab": {}
      },
      "source": [
        "#standardize the features\n",
        "sc = StandardScaler()\n",
        "sc.fit(x_train)\n",
        "x_train = sc.transform(x_train)\n",
        "x_test = sc.transform(x_test)"
      ],
      "execution_count": 0,
      "outputs": []
    },
    {
      "cell_type": "code",
      "metadata": {
        "id": "UqvPK2JMVL0e",
        "colab_type": "code",
        "outputId": "ff67e95e-1e00-4178-97f3-9acb2765647b",
        "colab": {
          "base_uri": "https://localhost:8080/",
          "height": 34
        }
      },
      "source": [
        "#Logistic regression\n",
        "LR = LogisticRegression(penalty = 'l2', C = 1.0)\n",
        "LR.fit(x_train, y_train)\n",
        "LR_prediction = LR.predict(x_test)\n",
        "\n",
        "accuracy = accuracy_score(y_test, LR_prediction)\n",
        "\n",
        "print('Accuracy:{}'.format(accuracy))"
      ],
      "execution_count": 6,
      "outputs": [
        {
          "output_type": "stream",
          "text": [
            "Accuracy:0.9736842105263158\n"
          ],
          "name": "stdout"
        }
      ]
    },
    {
      "cell_type": "code",
      "metadata": {
        "id": "xevlGclfXYnw",
        "colab_type": "code",
        "outputId": "4cf8bdf6-81cd-49d3-ad88-43b357b96e79",
        "colab": {
          "base_uri": "https://localhost:8080/",
          "height": 34
        }
      },
      "source": [
        "#logistic regression with cross validation\n",
        "LRCV = LogisticRegressionCV(Cs = (0.1, 0.5, 1.0, 5.0, 10.0), cv = 10, penalty = 'l2', max_iter = 500)\n",
        "LRCV.fit(x_train, y_train)\n",
        "LRCV_prediction = LRCV.predict(x_test)\n",
        "\n",
        "accuracy = accuracy_score(y_test, LRCV_prediction)\n",
        "\n",
        "print('Accuracy:{}'.format(accuracy))"
      ],
      "execution_count": 7,
      "outputs": [
        {
          "output_type": "stream",
          "text": [
            "Accuracy:0.9824561403508771\n"
          ],
          "name": "stdout"
        }
      ]
    },
    {
      "cell_type": "code",
      "metadata": {
        "id": "cu_vpyVDX8XI",
        "colab_type": "code",
        "colab": {}
      },
      "source": [
        ""
      ],
      "execution_count": 0,
      "outputs": []
    }
  ]
}